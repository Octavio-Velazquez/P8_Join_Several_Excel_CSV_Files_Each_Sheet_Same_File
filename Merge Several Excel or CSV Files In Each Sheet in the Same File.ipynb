{
 "cells": [
  {
   "cell_type": "markdown",
   "id": "17aa9150",
   "metadata": {},
   "source": [
    "### Merge Several Excel or CSV Files In Each Sheet in the Same File."
   ]
  },
  {
   "cell_type": "code",
   "execution_count": 1,
   "id": "73300257",
   "metadata": {},
   "outputs": [],
   "source": [
    "import pandas as pd\n",
    "import os"
   ]
  },
  {
   "cell_type": "code",
   "execution_count": 2,
   "id": "3f282c83",
   "metadata": {},
   "outputs": [],
   "source": [
    "files = os.listdir(\"./All_Data\")\n",
    "\n",
    "merge_file_sheets = \"All_Data_Files_Sheets.xlsx\"\n",
    "file_writer = pd.ExcelWriter(merge_file_sheets)"
   ]
  },
  {
   "cell_type": "code",
   "execution_count": 3,
   "id": "ad60cbce",
   "metadata": {},
   "outputs": [],
   "source": [
    "for file in files:\n",
    "    file_sheet_name = file.split('.')[0].split(\"_\")[1] + \" 2019\"\n",
    "    df = pd.read_csv(\"./All_Data/\" + file)\n",
    "    df.to_excel(file_writer, sheet_name=file_sheet_name, index=False)"
   ]
  },
  {
   "cell_type": "code",
   "execution_count": 4,
   "id": "580477a8",
   "metadata": {},
   "outputs": [
    {
     "name": "stderr",
     "output_type": "stream",
     "text": [
      "C:\\Users\\ovela\\AppData\\Local\\Temp\\ipykernel_23688\\2671672738.py:1: FutureWarning: save is not part of the public API, usage can give unexpected results and will be removed in a future version\n",
      "  file_writer.save()\n"
     ]
    }
   ],
   "source": [
    "file_writer.save()"
   ]
  }
 ],
 "metadata": {
  "kernelspec": {
   "display_name": "Python 3 (ipykernel)",
   "language": "python",
   "name": "python3"
  },
  "language_info": {
   "codemirror_mode": {
    "name": "ipython",
    "version": 3
   },
   "file_extension": ".py",
   "mimetype": "text/x-python",
   "name": "python",
   "nbconvert_exporter": "python",
   "pygments_lexer": "ipython3",
   "version": "3.11.0"
  }
 },
 "nbformat": 4,
 "nbformat_minor": 5
}
